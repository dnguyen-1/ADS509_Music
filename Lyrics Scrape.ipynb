{
 "cells": [
  {
   "cell_type": "markdown",
   "id": "95952cac",
   "metadata": {},
   "source": [
    "# ADS 509 Module 1: APIs and Web Scraping\n",
    "\n",
    "This notebook has two parts. In the first part, you will scrape lyrics from AZLyrics.com. In the second part, you'll run code that verifies the completeness of your data pull. \n",
    "\n",
    "For this assignment you have chosen two musical artists who have at least 20 songs with lyrics on AZLyrics.com. We start with pulling some information and analyzing them.\n"
   ]
  },
  {
   "cell_type": "markdown",
   "id": "069b7ae8",
   "metadata": {},
   "source": [
    "## General Assignment Instructions\n",
    "\n",
    "These instructions are included in every assignment, to remind you of the coding standards for the class. Feel free to delete this cell after reading it. \n",
    "\n",
    "One sign of mature code is conforming to a style guide. We recommend the [Google Python Style Guide](https://google.github.io/styleguide/pyguide.html). If you use a different style guide, please include a cell with a link. \n",
    "\n",
    "Your code should be relatively easy-to-read, sensibly commented, and clean. Writing code is a messy process, so please be sure to edit your final submission. Remove any cells that are not needed or parts of cells that contain unnecessary code. Remove inessential `import` statements and make sure that all such statements are moved into the designated cell. \n",
    "\n",
    "Make use of non-code cells for written commentary. These cells should be grammatical and clearly written. In some of these cells you will have questions to answer. The questions will be marked by a \"Q:\" and will have a corresponding \"A:\" spot for you. *Make sure to answer every question marked with a `Q:` for full credit.* \n"
   ]
  },
  {
   "cell_type": "markdown",
   "id": "91c8969e",
   "metadata": {},
   "source": [
    "# Importing Libraries"
   ]
  },
  {
   "cell_type": "code",
   "execution_count": 1,
   "id": "185076b0",
   "metadata": {},
   "outputs": [],
   "source": [
    "import os\n",
    "import datetime\n",
    "import re\n",
    "\n",
    "# for the lyrics scrape section\n",
    "import requests\n",
    "import time\n",
    "from bs4 import BeautifulSoup\n",
    "from collections import defaultdict, Counter\n",
    "import random"
   ]
  },
  {
   "cell_type": "code",
   "execution_count": 2,
   "id": "a47e2d5f",
   "metadata": {},
   "outputs": [],
   "source": [
    "# Use this cell for any import statements you add\n",
    "import subprocess\n",
    "import shutil"
   ]
  },
  {
   "cell_type": "markdown",
   "id": "45c13af3",
   "metadata": {},
   "source": [
    "---\n",
    "\n",
    "# Lyrics Scrape\n",
    "\n",
    "This section asks you to pull data by scraping www.AZLyrics.com. In the notebooks where you do that work you are asked to store the data in specific ways. "
   ]
  },
  {
   "cell_type": "code",
   "execution_count": 3,
   "id": "5bd7df77",
   "metadata": {},
   "outputs": [],
   "source": [
    "# 'artists' dictionary stores artists Rascal Flatts and Kelly Clarkson on AZlyrics\n",
    "artists = {'rascal':\"https://www.azlyrics.com/r/rascalflatts.html\",\n",
    "           'clarkson':\"https://www.azlyrics.com/c/clarkson.html\"} "
   ]
  },
  {
   "cell_type": "markdown",
   "id": "c236c99b",
   "metadata": {},
   "source": [
    "## A Note on Rate Limiting\n",
    "\n",
    "The lyrics site, www.azlyrics.com, does not have an explicit maximum on number of requests in any one time, but in our testing it appears that too many requests in too short a time will cause the site to stop returning lyrics pages. (Entertainingly, the page that gets returned seems to only have the song title to [a Tom Jones song](https://www.azlyrics.com/lyrics/tomjones/itsnotunusual.html).) \n",
    "\n",
    "Whenever you call `requests.get` to retrieve a page, put a `time.sleep(5 + 10*random.random())` on the next line. This will help you not to get blocked. If you _do_ get blocked, which you can identify if the returned pages are not correct, just request a lyrics page through your browser. You'll be asked to perform a CAPTCHA and then your requests should start working again. \n",
    "\n",
    "## Part 1: Finding Links to Songs Lyrics\n",
    "\n",
    "That general artist page has a list of all songs for that artist with links to the individual song pages. \n",
    "\n",
    "Q: Take a look at the `robots.txt` page on www.azlyrics.com. (You can read more about these pages [here](https://developers.google.com/search/docs/advanced/robots/intro).) Is the scraping we are about to do allowed or disallowed by this page? How do you know? \n",
    "\n",
    "A: According to 'https://www.azlyrics.com/robots.txt', scraping of the page is allowed for by this page and is denoted by the 'user=agent: *' and 'Allow: /'.  The '/lyricsdb/' and '/song/' directories disallowed for scraping by this page.\n"
   ]
  },
  {
   "cell_type": "code",
   "execution_count": 4,
   "id": "ac9d31ec",
   "metadata": {},
   "outputs": [],
   "source": [
    "# Let's set up a dictionary of lists to hold our links\n",
    "lyrics_pages = defaultdict(list)\n",
    "\n",
    "for artist, artist_page in artists.items() :\n",
    "    # request the page and sleep\n",
    "    r = requests.get(artist_page)\n",
    "    time.sleep(5 + 10*random.random())\n",
    "\n",
    "    # now extract the links to lyrics pages from this page by parsing the html\n",
    "    soup = BeautifulSoup(r.text, 'html.parser')\n",
    "    \n",
    "    # store the links `lyrics_pages` where the key is the artist and the\n",
    "    # value is a list of links.\n",
    "    for link in soup.select('div.listalbum-item > a[href]'):\n",
    "        href = link['href']\n",
    "        full_url = \"https://www.azlyrics.com\" + href[2:] if href.startswith(\"..\") else href\n",
    "        lyrics_pages[artist].append(full_url)\n"
   ]
  },
  {
   "cell_type": "markdown",
   "id": "9c285ec1",
   "metadata": {},
   "source": [
    "Let's make sure we have enough lyrics pages to scrape. "
   ]
  },
  {
   "cell_type": "code",
   "execution_count": 5,
   "id": "ae4cda68",
   "metadata": {},
   "outputs": [],
   "source": [
    "for artist, lp in lyrics_pages.items() :\n",
    "    assert(len(set(lp)) > 20) "
   ]
  },
  {
   "cell_type": "code",
   "execution_count": 6,
   "id": "edca10d6",
   "metadata": {},
   "outputs": [
    {
     "name": "stdout",
     "output_type": "stream",
     "text": [
      "For rascal we have 176.\n",
      "The full pull will take for this artist will take 0.49 hours.\n",
      "For clarkson we have 255.\n",
      "The full pull will take for this artist will take 0.71 hours.\n"
     ]
    }
   ],
   "source": [
    "# Let's see how long it's going to take to pull these lyrics \n",
    "# if we're waiting `5 + 10*random.random()` seconds \n",
    "for artist, links in lyrics_pages.items() : \n",
    "    print(f\"For {artist} we have {len(links)}.\")\n",
    "    print(f\"The full pull will take for this artist will take {round(len(links)*10/3600,2)} hours.\")"
   ]
  },
  {
   "cell_type": "markdown",
   "id": "011be6c6",
   "metadata": {},
   "source": [
    "## Part 2: Pulling Lyrics\n",
    "\n",
    "Now that we have the links to our lyrics pages, let's go scrape them! Here are the steps for this part. \n",
    "\n",
    "1. Create an empty folder in our repo called \"lyrics\". \n",
    "1. Iterate over the artists in `lyrics_pages`. \n",
    "1. Create a subfolder in lyrics with the artist's name. For instance, if the artist was Cher you'd have `lyrics/cher/` in your repo.\n",
    "1. Iterate over the pages. \n",
    "1. Request the page and extract the lyrics from the returned HTML file using BeautifulSoup.\n",
    "1. Use the function below, `generate_filename_from_url`, to create a filename based on the lyrics page, then write the lyrics to a text file with that name. \n"
   ]
  },
  {
   "cell_type": "code",
   "execution_count": 7,
   "id": "67693711",
   "metadata": {},
   "outputs": [],
   "source": [
    "def generate_filename_from_link(link) :\n",
    "    \n",
    "    if not link :\n",
    "        return None\n",
    "    \n",
    "    # drop the http or https and the html\n",
    "    name = link.replace(\"https\",\"\").replace(\"http\",\"\")\n",
    "    name = link.replace(\".html\",\"\")\n",
    "\n",
    "    name = name.replace(\"/lyrics/\",\"\")\n",
    "    \n",
    "    # Replace useless chareacters with UNDERSCORE\n",
    "    name = name.replace(\"://\",\"\").replace(\".\",\"_\").replace(\"/\",\"_\")\n",
    "    \n",
    "    # tack on .txt\n",
    "    name = name + \".txt\"\n",
    "    \n",
    "    return(name)\n"
   ]
  },
  {
   "cell_type": "code",
   "execution_count": 8,
   "id": "94a78c78",
   "metadata": {},
   "outputs": [],
   "source": [
    "# Make the lyrics folder here. If you'd like to practice your programming, add functionality\n",
    "if not os.path.exists(\"lyrics\"):\n",
    "    os.makedirs(\"lyrics\")\n",
    "    with open(os.path.join(\"lyrics\", \".gitkeep\"), \"w\") as f:\n",
    "        f.write(\"\")\n",
    "\n",
    "# that checks to see if the folder exists. If it does, then use shutil.rmtree to remove it and create a new one.\n",
    "if os.path.isdir(\"lyrics\") : \n",
    "    shutil.rmtree(\"lyrics/\")\n",
    "\n",
    "os.mkdir(\"lyrics\")"
   ]
  },
  {
   "cell_type": "code",
   "execution_count": 9,
   "id": "d655b687",
   "metadata": {},
   "outputs": [
    {
     "name": "stdout",
     "output_type": "stream",
     "text": [
      "Saved: lyrics/rascal/prayinfordaylight.txt\n",
      "Saved: lyrics/rascal/thiseverydaylove.txt\n",
      "Saved: lyrics/rascal/whileyoulovedme.txt\n",
      "Saved: lyrics/rascal/somesay.txt\n",
      "Saved: lyrics/rascal/seemethrough.txt\n",
      "Saved: lyrics/rascal/onegoodlove.txt\n",
      "Saved: lyrics/rascal/itsnotjustme.txt\n",
      "Saved: lyrics/rascal/waitingallmylife.txt\n",
      "Saved: lyrics/rascal/fromtimetotime.txt\n",
      "Saved: lyrics/rascal/longslowbeautifuldance.txt\n",
      "Saved: lyrics/rascal/immovingon.txt\n",
      "Saved: lyrics/rascal/thesedays.txt\n",
      "Saved: lyrics/rascal/toogoodistrue.txt\n",
      "Saved: lyrics/rascal/imelt.txt\n",
      "Saved: lyrics/rascal/mayberry.txt\n",
      "Saved: lyrics/rascal/loveyououtloud.txt\n",
      "Saved: lyrics/rascal/drycountygirl.txt\n",
      "Saved: lyrics/rascal/likeiam.txt\n",
      "Saved: lyrics/rascal/you.txt\n",
      "Saved: lyrics/rascal/fallinupsidedown.txt\n",
      "Saved: lyrics/rascal/shineon.txt\n",
      "Saved: lyrics/rascal/myworstfear.txt\n",
      "Saved: lyrics/rascal/whereyouare.txt\n",
      "Saved: lyrics/rascal/blessthebrokenroad.txt\n",
      "Saved: lyrics/rascal/thenidid.txt\n",
      "Saved: lyrics/rascal/feelsliketoday.txt\n",
      "Saved: lyrics/rascal/fastcarsandfreedom.txt\n",
      "Saved: lyrics/rascal/whenthesandrunsout.txt\n",
      "Saved: lyrics/rascal/herestoyou.txt\n",
      "Saved: lyrics/rascal/thedaybeforeyou.txt\n",
      "Saved: lyrics/rascal/breakaway.txt\n",
      "Saved: lyrics/rascal/holes.txt\n",
      "Saved: lyrics/rascal/oklahomatexasline.txt\n",
      "Saved: lyrics/rascal/skin.txt\n",
      "Saved: lyrics/rascal/babydontgethookedonme.txt\n",
      "Saved: lyrics/rascal/themaninlovewithyou.txt\n",
      "Saved: lyrics/rascal/headoverheels.txt\n",
      "Saved: lyrics/rascal/loveanotherday.txt\n",
      "Saved: lyrics/rascal/stand.txt\n",
      "Saved: lyrics/rascal/whathurtsthemost.txt\n",
      "Saved: lyrics/clarkson/thetroublewithloveis.txt\n",
      "Saved: lyrics/clarkson/missindependent.txt\n",
      "Saved: lyrics/clarkson/low.txt\n",
      "Saved: lyrics/clarkson/somekindofmiracle.txt\n",
      "Saved: lyrics/clarkson/whatsuplonely.txt\n",
      "Saved: lyrics/clarkson/justmissedthetrain.txt\n",
      "Saved: lyrics/clarkson/beautifuldisaster.txt\n",
      "Saved: lyrics/clarkson/youthoughtwrong.txt\n",
      "Saved: lyrics/clarkson/thankful.txt\n",
      "Saved: lyrics/clarkson/anytime.txt\n",
      "Saved: lyrics/clarkson/amomentlikethis.txt\n",
      "Saved: lyrics/clarkson/beforeyourlove.txt\n",
      "Saved: lyrics/clarkson/breakaway.txt\n",
      "Saved: lyrics/clarkson/sinceubeengone.txt\n",
      "Saved: lyrics/clarkson/behindthesehazeleyes.txt\n",
      "Saved: lyrics/clarkson/becauseofyou.txt\n",
      "Saved: lyrics/clarkson/gone.txt\n",
      "Saved: lyrics/clarkson/addicted.txt\n",
      "Saved: lyrics/clarkson/whereisyourheart.txt\n",
      "Saved: lyrics/clarkson/walkaway.txt\n",
      "Saved: lyrics/clarkson/youfoundme.txt\n",
      "Saved: lyrics/clarkson/ihatemyselfforlosingyou.txt\n",
      "Saved: lyrics/clarkson/hearme.txt\n",
      "Saved: lyrics/clarkson/beautifuldisasterlive.txt\n",
      "Saved: lyrics/clarkson/neveragain.txt\n",
      "Saved: lyrics/clarkson/oneminute.txt\n",
      "Saved: lyrics/clarkson/hole.txt\n",
      "Saved: lyrics/clarkson/sober.txt\n",
      "Saved: lyrics/clarkson/dontwasteyourtime.txt\n",
      "Saved: lyrics/clarkson/judas.txt\n",
      "Saved: lyrics/clarkson/haunted.txt\n",
      "Saved: lyrics/clarkson/bestill.txt\n",
      "Saved: lyrics/clarkson/maybe.txt\n",
      "Saved: lyrics/clarkson/howifeel.txt\n",
      "Saved: lyrics/clarkson/yeah.txt\n",
      "Saved: lyrics/clarkson/canihaveakiss.txt\n",
      "Saved: lyrics/clarkson/irvine.txt\n",
      "Saved: lyrics/clarkson/chivas.txt\n",
      "Saved: lyrics/clarkson/dirtylittlesecret.txt\n",
      "Saved: lyrics/clarkson/nottoday.txt\n",
      "\n",
      " Scraped 80 pages in 871.87 seconds.\n"
     ]
    }
   ],
   "source": [
    "#used chatgpt on 5/11/2025 to clean code and fix errors\n",
    "url = \"https://www.azlyrics.com\" \n",
    "start = time.time()\n",
    "headers = {'User-Agent': 'Mozilla/5.0'}\n",
    "total_pages = 0 \n",
    "\n",
    "def generate_filename_from_url(url):\n",
    "    return url.strip('/').split('/')[-1].replace('.html', '') + '.txt' #generates clean title of song and appends .txt\n",
    "\n",
    "for artist in lyrics_pages :\n",
    "\n",
    "    # Use this space to carry out the following steps: \n",
    "    \n",
    "    # 1. Build a subfolder for the artist\n",
    "    artist_folder = os.path.join(\"lyrics\", artist.lower())\n",
    "    os.makedirs(artist_folder, exist_ok=True)\n",
    "    \n",
    "   # 2. Iterate over the lyrics pages\n",
    "    for link in lyrics_pages[artist][:40]:  #pulling first 40 songs of each artist\n",
    "        try:\n",
    "            \n",
    "            # 3. Request the lyrics page\n",
    "            time.sleep(5 + 10 * random.random())\n",
    "            full_url = link if link.startswith(\"http\") else url + link\n",
    "            response = requests.get(full_url, headers=headers)\n",
    "            soup = BeautifulSoup(response.text, \"html.parser\")\n",
    "\n",
    "            # 4. Extract the title and lyrics from the page\n",
    "            title = soup.find(\"title\").text.strip()\n",
    "            divs = soup.find_all(\"div\", class_=None, id=None)\n",
    "            lyrics = divs[0].get_text(separator='\\n').strip() if divs else \"[Lyrics not found]\"\n",
    "\n",
    "            # 5. Write out the title and lyrics\n",
    "            filename = generate_filename_from_url(link)\n",
    "            filepath = os.path.join(artist_folder, filename)\n",
    "\n",
    "            with open(filepath, 'w', encoding='utf-8') as f:\n",
    "                f.write(title + \"\\n\\n\" + lyrics)\n",
    "\n",
    "            total_pages += 1\n",
    "            print(f\"Saved: {filepath}\")\n",
    "\n",
    "        except Exception as e:\n",
    "            print(f\"Error with {link}: {e}\")\n",
    "\n",
    "end = time.time()\n",
    "print(f\"\\n Scraped {total_pages} pages in {round(end - start, 2)} seconds.\")\n",
    "    \n",
    "    # Remember to pull at least 20 songs per artist. It may be fun to pull all the songs for the artist\n",
    "    "
   ]
  },
  {
   "cell_type": "code",
   "execution_count": 10,
   "id": "36c394f1",
   "metadata": {},
   "outputs": [
    {
     "name": "stdout",
     "output_type": "stream",
     "text": [
      "Total run time was 0.24 hours.\n"
     ]
    }
   ],
   "source": [
    "print(f\"Total run time was {round((time.time() - start)/3600,2)} hours.\")"
   ]
  },
  {
   "cell_type": "markdown",
   "id": "054cf14b",
   "metadata": {},
   "source": [
    "---\n",
    "\n",
    "# Evaluation\n",
    "\n",
    "This assignment asks you to pull data by scraping www.AZLyrics.com.  After you have finished the above sections , run all the cells in this notebook. Print this to PDF and submit it, per the instructions."
   ]
  },
  {
   "cell_type": "code",
   "execution_count": 11,
   "id": "217c2b0a",
   "metadata": {},
   "outputs": [],
   "source": [
    "# Simple word extractor from Peter Norvig: https://norvig.com/spell-correct.html\n",
    "def words(text): \n",
    "    return re.findall(r'\\w+', text.lower())"
   ]
  },
  {
   "cell_type": "markdown",
   "id": "37778a1c",
   "metadata": {},
   "source": [
    "## Checking Lyrics \n",
    "\n",
    "The output from your lyrics scrape should be stored in files located in this path from the directory:\n",
    "`/lyrics/[Artist Name]/[filename from URL]`. This code summarizes the information at a high level to help the instructor evaluate your work. "
   ]
  },
  {
   "cell_type": "code",
   "execution_count": 12,
   "id": "bccac29c",
   "metadata": {},
   "outputs": [
    {
     "name": "stdout",
     "output_type": "stream",
     "text": [
      "For clarkson we have 40 files.\n",
      "For clarkson we have roughly 12852 words, 1067 are unique.\n",
      "For rascal we have 40 files.\n",
      "For rascal we have roughly 11500 words, 1188 are unique.\n"
     ]
    }
   ],
   "source": [
    "artist_folders = os.listdir(\"lyrics/\")\n",
    "artist_folders = [f for f in artist_folders if os.path.isdir(\"lyrics/\" + f)]\n",
    "\n",
    "for artist in artist_folders : \n",
    "    artist_files = os.listdir(\"lyrics/\" + artist)\n",
    "    artist_files = [f for f in artist_files if 'txt' in f or 'csv' in f or 'tsv' in f]\n",
    "\n",
    "    print(f\"For {artist} we have {len(artist_files)} files.\")\n",
    "\n",
    "    artist_words = []\n",
    "\n",
    "    for f_name in artist_files : \n",
    "        with open(\"lyrics/\" + artist + \"/\" + f_name) as infile : \n",
    "            artist_words.extend(words(infile.read()))\n",
    "\n",
    "            \n",
    "    print(f\"For {artist} we have roughly {len(artist_words)} words, {len(set(artist_words))} are unique.\")\n"
   ]
  },
  {
   "cell_type": "code",
   "execution_count": null,
   "id": "b699ca0f-2aa1-4cce-acc9-252a62645daa",
   "metadata": {},
   "outputs": [],
   "source": []
  }
 ],
 "metadata": {
  "kernelspec": {
   "display_name": "Python 3 (ipykernel)",
   "language": "python",
   "name": "python3"
  },
  "language_info": {
   "codemirror_mode": {
    "name": "ipython",
    "version": 3
   },
   "file_extension": ".py",
   "mimetype": "text/x-python",
   "name": "python",
   "nbconvert_exporter": "python",
   "pygments_lexer": "ipython3",
   "version": "3.11.7"
  }
 },
 "nbformat": 4,
 "nbformat_minor": 5
}
